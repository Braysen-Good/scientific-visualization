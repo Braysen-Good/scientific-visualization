{
 "cells": [
  {
   "cell_type": "code",
   "execution_count": 10,
   "id": "endless-lingerie",
   "metadata": {},
   "outputs": [
    {
     "name": "stdout",
     "output_type": "stream",
     "text": [
      "[0.000e+00 1.000e+00 2.000e+00 ... 1.732e+03 1.733e+03 1.734e+03]\n",
      "[0.000e+00 1.000e+00 2.000e+00 ... 1.743e+03 1.744e+03 1.745e+03]\n",
      "[0.000e+00 1.000e+00 2.000e+00 ... 1.749e+03 1.750e+03 1.751e+03]\n",
      "[0.000e+00 1.000e+00 2.000e+00 ... 1.755e+03 1.756e+03 1.757e+03]\n",
      "[0.000e+00 1.000e+00 2.000e+00 ... 1.759e+03 1.760e+03 1.761e+03]\n",
      "[0.000e+00 1.000e+00 2.000e+00 ... 1.765e+03 1.766e+03 1.767e+03]\n",
      "[0.000e+00 1.000e+00 2.000e+00 ... 1.773e+03 1.774e+03 1.775e+03]\n",
      "[0.000e+00 1.000e+00 2.000e+00 ... 1.777e+03 1.778e+03 1.779e+03]\n",
      "[0.000e+00 1.000e+00 2.000e+00 ... 1.781e+03 1.782e+03 1.783e+03]\n",
      "[0.000e+00 1.000e+00 2.000e+00 ... 1.785e+03 1.786e+03 1.788e+03]\n"
     ]
    }
   ],
   "source": [
    "from Parser import Parser\n",
    "\n",
    "parser = Parser(\"./sample-output\")\n",
    "\n",
    "parser.getFrameCount()\n",
    "\n",
    "\n",
    "for frameNumber in range(*parser.getFrameRange()):\n",
    "    cells = parser.getFrame(frameNumber).cells\n",
    "    print(cells.data[cells.variables['ID']])"
   ]
  },
  {
   "cell_type": "code",
   "execution_count": null,
   "id": "vulnerable-ocean",
   "metadata": {},
   "outputs": [],
   "source": []
  }
 ],
 "metadata": {
  "kernelspec": {
   "display_name": "Python 3",
   "language": "python",
   "name": "python3"
  },
  "language_info": {
   "codemirror_mode": {
    "name": "ipython",
    "version": 3
   },
   "file_extension": ".py",
   "mimetype": "text/x-python",
   "name": "python",
   "nbconvert_exporter": "python",
   "pygments_lexer": "ipython3",
   "version": "3.8.1"
  }
 },
 "nbformat": 4,
 "nbformat_minor": 5
}
