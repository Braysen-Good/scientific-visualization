{
 "cells": [
  {
   "cell_type": "code",
   "execution_count": 1,
   "id": "technical-italic",
   "metadata": {},
   "outputs": [],
   "source": [
    "from Parser import Parser\n",
    "\n",
    "import numpy as np\n",
    "import matplotlib.pyplot as plt\n",
    "class PlotGeneralData:\n",
    "    #'ID': 0, 'position.x': 1, 'position.y': 2, 'position.z': 3,\n",
    "    #'total_volume': 4, 'cell_type': 5, 'cycle_model': 6, 'current_phase': 7,\n",
    "    #'elapsed_time_in_phase': 8, 'nuclear_volume': 9, 'cytoplasmic_volume': 10,\n",
    "    #'fluid_fraction': 11, 'calcified_fraction': 12, 'orientation.x': 13,\n",
    "    #'orientation.y': 14, 'orientation.z': 15, 'polarity': 16,\n",
    "    #'migration_speed': 17, 'motility_vector.x': 18, 'motility_vector.y': 19,\n",
    "    #'motility_vector.z': 20, 'migration_bias': 21, 'motility_bias_direction.x': 22,\n",
    "    #'motility_bias_direction.y': 23, 'motility_bias_direction.z': 24,\n",
    "    #'persistence_time': 25, 'motility_reserved': 26, 'oncoprotein': 27\n",
    "\n",
    "    #over-time values\n",
    "    #population values\n",
    "\n",
    "\n",
    "    averageTimeInPhase =[]\n",
    "    def __init__(self, fm):\n",
    "        \n",
    "        self.framecount = fm.getFrameCount()\n",
    "        self.totalPop = np.zeros((self.framecount))\n",
    "        self.healthyCount = np.zeros((self.framecount))\n",
    "        self.starvedCount = np.zeros((self.framecount))\n",
    "        self.deadCount = np.zeros((self.framecount))\n",
    "        \n",
    "        for i in range(self.framecount):\n",
    "            cells = np.array(fm.getFrame(i).cells.data)\n",
    "            self.totalPop[i]=cells[0].size\n",
    "            self.healthyCount[i]=np.count_nonzero(cells[6] == 5)\n",
    "            self.starvedCount[i]=np.count_nonzero(cells[6] == 101)\n",
    "            self.deadCount[i]=np.count_nonzero(cells[6] == 100)\n",
    "            \n",
    "    def plotPop(self):\n",
    "        plt.plot(self.totalPop, color = \"c\", label='total population')\n",
    "        plt.plot(self.healthyCount,color = \"b\", label='healthy cells')\n",
    "        plt.plot(self.starvedCount,color = \"r\",  label='starved cells')\n",
    "        plt.plot(self.deadCount,color = \"k\", label='dead cells')\n",
    "        plt.ylabel('# of cells')\n",
    "        plt.xlabel('frame number')\n",
    "        plt.legend()\n",
    "        plt.show()\n",
    "        \n"
   ]
  },
  {
   "cell_type": "code",
   "execution_count": 2,
   "id": "comfortable-elevation",
   "metadata": {},
   "outputs": [
    {
     "data": {
      "image/png": "[encoded data removed]",
      "text/plain": [
       "<Figure size 432x288 with 1 Axes>"
      ]
     },
     "metadata": {
      "needs_background": "light"
     },
     "output_type": "display_data"
    }
   ],
   "source": [
    "PlotController(Parser(\"./sample-output-3d\")).plotPop()"
   ]
  },
  {
   "cell_type": "code",
   "execution_count": null,
   "id": "accepted-express",
   "metadata": {},
   "outputs": [],
   "source": [
    "class OxygenGraph:\n",
    "    "
   ]
  }
 ],
 "metadata": {
  "kernelspec": {
   "display_name": "Python 3",
   "language": "python",
   "name": "python3"
  },
  "language_info": {
   "codemirror_mode": {
    "name": "ipython",
    "version": 3
   },
   "file_extension": ".py",
   "mimetype": "text/x-python",
   "name": "python",
   "nbconvert_exporter": "python",
   "pygments_lexer": "ipython3",
   "version": "3.8.1"
  }
 },
 "nbformat": 4,
 "nbformat_minor": 5
}
