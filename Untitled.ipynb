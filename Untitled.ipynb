{
 "cells": [
  {
   "cell_type": "code",
   "execution_count": 4,
   "id": "particular-elevation",
   "metadata": {},
   "outputs": [
    {
     "name": "stdout",
     "output_type": "stream",
     "text": [
      "Requirement already satisfied: scipy in /Library/Frameworks/Python.framework/Versions/3.8/lib/python3.8/site-packages (1.6.0)\r\n",
      "Requirement already satisfied: numpy>=1.16.5 in /Library/Frameworks/Python.framework/Versions/3.8/lib/python3.8/site-packages (from scipy) (1.20.0)\r\n"
     ]
    }
   ],
   "source": [
    "# you will have to restart the entire environment after installing ipycanvas\n",
    "#!pip install ipycanvas\n",
    "#!pip install scipy"
   ]
  },
  {
   "cell_type": "code",
   "execution_count": 1,
   "id": "peripheral-singapore",
   "metadata": {},
   "outputs": [
    {
     "data": {
      "application/vnd.jupyter.widget-view+json": {
       "model_id": "27ef0ebc55cf4ddebf0e2e45aaf0617a",
       "version_major": 2,
       "version_minor": 0
      },
      "text/plain": [
       "Canvas(height=50)"
      ]
     },
     "metadata": {},
     "output_type": "display_data"
    }
   ],
   "source": [
    "from ipycanvas import Canvas\n",
    "\n",
    "canvas = Canvas(width=700, height=50)\n",
    "\n",
    "gradient = canvas.create_linear_gradient(\n",
    "    0, 0, # Start position (x0, y0)\n",
    "    700, 0, # End position (x1, y1)\n",
    "    # List of color stops\n",
    "    [\n",
    "        (0, 'red'),\n",
    "        (1 / 6, 'orange'),\n",
    "        (2 / 6, 'yellow'),\n",
    "        (3 / 6, 'green'),\n",
    "        (4 / 6, 'blue'),\n",
    "        (5 / 6, '#4B0082'),\n",
    "        (1, 'violet')\n",
    "    ]\n",
    ")\n",
    "\n",
    "canvas.fill_style = gradient\n",
    "canvas.fill_rect(0, 0, 700, 50)\n",
    "\n",
    "canvas"
   ]
  },
  {
   "cell_type": "code",
   "execution_count": 2,
   "id": "wrong-mortgage",
   "metadata": {},
   "outputs": [
    {
     "data": {
      "text/plain": [
       "['ATTRS',\n",
       " '__class__',\n",
       " '__del__',\n",
       " '__delattr__',\n",
       " '__dict__',\n",
       " '__dir__',\n",
       " '__doc__',\n",
       " '__eq__',\n",
       " '__format__',\n",
       " '__ge__',\n",
       " '__getattribute__',\n",
       " '__getstate__',\n",
       " '__gt__',\n",
       " '__hash__',\n",
       " '__init__',\n",
       " '__init_subclass__',\n",
       " '__le__',\n",
       " '__lt__',\n",
       " '__module__',\n",
       " '__ne__',\n",
       " '__new__',\n",
       " '__reduce__',\n",
       " '__reduce_ex__',\n",
       " '__repr__',\n",
       " '__setattr__',\n",
       " '__setstate__',\n",
       " '__sizeof__',\n",
       " '__str__',\n",
       " '__subclasshook__',\n",
       " '__weakref__',\n",
       " '_add_notifiers',\n",
       " '_buffers_cache',\n",
       " '_call_widget_constructed',\n",
       " '_client_ready_callbacks',\n",
       " '_comm_changed',\n",
       " '_commands_cache',\n",
       " '_compare',\n",
       " '_cross_validation_lock',\n",
       " '_default_keys',\n",
       " '_display_callbacks',\n",
       " '_dom_classes',\n",
       " '_fill_style_metadata',\n",
       " '_gen_repr_from_keys',\n",
       " '_get_embed_state',\n",
       " '_get_trait_default_generator',\n",
       " '_handle_custom_msg',\n",
       " '_handle_displayed',\n",
       " '_handle_frontend_event',\n",
       " '_handle_msg',\n",
       " '_holding_sync',\n",
       " '_ipython_display_',\n",
       " '_is_numpy',\n",
       " '_line_dash',\n",
       " '_lock_property',\n",
       " '_log_default',\n",
       " '_model_id',\n",
       " '_model_module',\n",
       " '_model_module_version',\n",
       " '_model_name',\n",
       " '_mouse_down_callbacks',\n",
       " '_mouse_move_callbacks',\n",
       " '_mouse_out_callbacks',\n",
       " '_mouse_up_callbacks',\n",
       " '_msg_callbacks',\n",
       " '_notify_observers',\n",
       " '_notify_trait',\n",
       " '_property_lock',\n",
       " '_register_validator',\n",
       " '_remove_notifiers',\n",
       " '_repr_keys',\n",
       " '_send',\n",
       " '_send_canvas_command',\n",
       " '_send_command',\n",
       " '_send_custom',\n",
       " '_should_send_property',\n",
       " '_states_to_send',\n",
       " '_touch_cancel_callbacks',\n",
       " '_touch_end_callbacks',\n",
       " '_touch_move_callbacks',\n",
       " '_touch_start_callbacks',\n",
       " '_trait_default_generators',\n",
       " '_trait_from_json',\n",
       " '_trait_notifiers',\n",
       " '_trait_to_json',\n",
       " '_trait_validators',\n",
       " '_trait_values',\n",
       " '_view_count',\n",
       " '_view_module',\n",
       " '_view_module_version',\n",
       " '_view_name',\n",
       " '_widget_construction_callback',\n",
       " 'add_class',\n",
       " 'add_traits',\n",
       " 'arc',\n",
       " 'arc_to',\n",
       " 'begin_path',\n",
       " 'bezier_curve_to',\n",
       " 'caching',\n",
       " 'class_own_trait_events',\n",
       " 'class_own_traits',\n",
       " 'class_trait_names',\n",
       " 'class_traits',\n",
       " 'clear',\n",
       " 'clear_rect',\n",
       " 'clip',\n",
       " 'close',\n",
       " 'close_all',\n",
       " 'close_path',\n",
       " 'comm',\n",
       " 'create_image_data',\n",
       " 'create_linear_gradient',\n",
       " 'create_pattern',\n",
       " 'create_radial_gradient',\n",
       " 'cross_validation_lock',\n",
       " 'direction',\n",
       " 'draw_image',\n",
       " 'ellipse',\n",
       " 'fill',\n",
       " 'fill_arc',\n",
       " 'fill_arcs',\n",
       " 'fill_circle',\n",
       " 'fill_circles',\n",
       " 'fill_polygon',\n",
       " 'fill_rect',\n",
       " 'fill_rects',\n",
       " 'fill_style',\n",
       " 'fill_text',\n",
       " 'flush',\n",
       " 'font',\n",
       " 'get_image_data',\n",
       " 'get_line_dash',\n",
       " 'get_manager_state',\n",
       " 'get_state',\n",
       " 'get_view_spec',\n",
       " 'global_alpha',\n",
       " 'global_composite_operation',\n",
       " 'handle_comm_opened',\n",
       " 'has_trait',\n",
       " 'height',\n",
       " 'hold_sync',\n",
       " 'hold_trait_notifications',\n",
       " 'image_data',\n",
       " 'keys',\n",
       " 'layout',\n",
       " 'line_cap',\n",
       " 'line_dash_offset',\n",
       " 'line_join',\n",
       " 'line_to',\n",
       " 'line_width',\n",
       " 'log',\n",
       " 'miter_limit',\n",
       " 'model_id',\n",
       " 'move_to',\n",
       " 'notify_change',\n",
       " 'observe',\n",
       " 'on_client_ready',\n",
       " 'on_displayed',\n",
       " 'on_mouse_down',\n",
       " 'on_mouse_move',\n",
       " 'on_mouse_out',\n",
       " 'on_mouse_up',\n",
       " 'on_msg',\n",
       " 'on_touch_cancel',\n",
       " 'on_touch_end',\n",
       " 'on_touch_move',\n",
       " 'on_touch_start',\n",
       " 'on_trait_change',\n",
       " 'on_widget_constructed',\n",
       " 'open',\n",
       " 'put_image_data',\n",
       " 'quadratic_curve_to',\n",
       " 'rect',\n",
       " 'remove_class',\n",
       " 'reset_transform',\n",
       " 'restore',\n",
       " 'rotate',\n",
       " 'save',\n",
       " 'scale',\n",
       " 'send',\n",
       " 'send_state',\n",
       " 'set_line_dash',\n",
       " 'set_state',\n",
       " 'set_trait',\n",
       " 'set_transform',\n",
       " 'setup_instance',\n",
       " 'shadow_blur',\n",
       " 'shadow_color',\n",
       " 'shadow_offset_x',\n",
       " 'shadow_offset_y',\n",
       " 'size',\n",
       " 'sleep',\n",
       " 'stroke',\n",
       " 'stroke_arc',\n",
       " 'stroke_arcs',\n",
       " 'stroke_circle',\n",
       " 'stroke_circles',\n",
       " 'stroke_line',\n",
       " 'stroke_lines',\n",
       " 'stroke_polygon',\n",
       " 'stroke_rect',\n",
       " 'stroke_rects',\n",
       " 'stroke_style',\n",
       " 'stroke_text',\n",
       " 'sync_image_data',\n",
       " 'text_align',\n",
       " 'text_baseline',\n",
       " 'to_file',\n",
       " 'trait_defaults',\n",
       " 'trait_events',\n",
       " 'trait_has_value',\n",
       " 'trait_metadata',\n",
       " 'trait_names',\n",
       " 'trait_values',\n",
       " 'traits',\n",
       " 'transform',\n",
       " 'translate',\n",
       " 'unobserve',\n",
       " 'unobserve_all',\n",
       " 'widget_types',\n",
       " 'widgets',\n",
       " 'width']"
      ]
     },
     "execution_count": 2,
     "metadata": {},
     "output_type": "execute_result"
    }
   ],
   "source": [
    "dir(canvas)"
   ]
  },
  {
   "cell_type": "code",
   "execution_count": 15,
   "id": "experienced-intake",
   "metadata": {},
   "outputs": [
    {
     "data": {
      "application/vnd.jupyter.widget-view+json": {
       "model_id": "c0f1b07d1feb410883dfb106a5037c23",
       "version_major": 2,
       "version_minor": 0
      },
      "text/plain": [
       "Canvas(height=50, width=100)"
      ]
     },
     "metadata": {},
     "output_type": "display_data"
    }
   ],
   "source": [
    "from ipycanvas import Canvas\n",
    "\n",
    "canvas = Canvas(width=100, height=50)\n",
    "\n",
    "def perform_drawings():\n",
    "    canvas.font = '32px serif'\n",
    "    canvas.fill_text('Voilà!', 10, 32)\n",
    "    canvas.draw\n",
    "\n",
    "canvas.on_client_ready(perform_drawings)\n",
    "canvas.on_mouse_move(lambda x: print(x))\n",
    "\n",
    "canvas"
   ]
  },
  {
   "cell_type": "code",
   "execution_count": 13,
   "id": "champion-athletics",
   "metadata": {},
   "outputs": [
    {
     "data": {
      "application/vnd.jupyter.widget-view+json": {
       "model_id": "4daeef53929a4dc782a728269fe0480e",
       "version_major": 2,
       "version_minor": 0
      },
      "text/plain": [
       "Canvas(height=50, width=100)"
      ]
     },
     "metadata": {},
     "output_type": "display_data"
    }
   ],
   "source": [
    "canvas"
   ]
  },
  {
   "cell_type": "code",
   "execution_count": 5,
   "id": "cordless-adoption",
   "metadata": {},
   "outputs": [
    {
     "data": {
      "application/vnd.jupyter.widget-view+json": {
       "model_id": "da9a7a569da74deb82d9b10a5b0b189b",
       "version_major": 2,
       "version_minor": 0
      },
      "text/plain": [
       "Image(value=b'\\x89PNG\\r\\n\\x1a\\n\\x00\\x00\\x00\\rIHDR\\x00\\x00\\x03\\x18\\x00\\x00\\x00Z\\x08\\x06\\x00\\x00\\x00;\\x05\\xf0\\x9…"
      ]
     },
     "metadata": {},
     "output_type": "display_data"
    }
   ],
   "source": [
    "import ipywidgets as widgets\n",
    "\n",
    "file = open(\"image.png\", \"rb\")\n",
    "image = file.read()\n",
    "widgets.Image(\n",
    "    value=image,\n",
    "    format='png',\n",
    "    width=792,\n",
    "    height=82,\n",
    ")"
   ]
  },
  {
   "cell_type": "code",
   "execution_count": 16,
   "id": "developed-thousand",
   "metadata": {},
   "outputs": [
    {
     "data": {
      "application/vnd.jupyter.widget-view+json": {
       "model_id": "e9751cd0887146c59075c42ec355760c",
       "version_major": 2,
       "version_minor": 0
      },
      "text/plain": [
       "Canvas(height=600, width=600)"
      ]
     },
     "metadata": {},
     "output_type": "display_data"
    }
   ],
   "source": [
    "from ipycanvas import Canvas, hold_canvas\n",
    "\n",
    "canvas = Canvas(width=600, height=600)\n",
    "canvas.fill_style = '#584f4e'\n",
    "canvas.fill_rect(0, 0, 600, 600)\n",
    "\n",
    "\n",
    "\n",
    "objects_to_draw = []\n",
    "class Square_obj():\n",
    "    def __init__(self, x,y, width=100, height=40):\n",
    "        self.x = x\n",
    "        self.y = y\n",
    "        self.width = width\n",
    "        self.height = height\n",
    "        self.selected = False\n",
    "        objects_to_draw.append(self)\n",
    "        \n",
    "        \n",
    "        \n",
    "    def set_x_y(self,x_in,y_in)  :\n",
    "        self.x = x_in\n",
    "        self.y = y_in\n",
    "    \n",
    "    def draw(self):\n",
    "        \n",
    "        canvas.fill_style = '#38a8a4'\n",
    "        canvas.fill_rect(self.x - (self.width*0.5), self.y - (self.height) , self.width, self.height)\n",
    "        if self.selected:\n",
    "            canvas.fill_style = '#9dcea6'\n",
    "        else:\n",
    "            canvas.fill_style = '#dee7bc'\n",
    "        canvas.fill_rect(self.x - (self.width*0.5), self.y - (self.height*0.5) , self.width, self.height)\n",
    "\n",
    "        \n",
    "        \n",
    "    def is_selected(self,x_in, y_in):\n",
    "        x_coord = self.x - (self.width*0.5)\n",
    "        y_coord = self.y - (self.height*0.5)\n",
    "\n",
    "        if x_in > x_coord and x_in < (x_coord+ self.width) and  y_in > y_coord  and y_in < (y_coord  + self.height):\n",
    "            \n",
    "            self.set_selected(True)\n",
    "            return True\n",
    "        else:\n",
    "            self.set_selected(False)\n",
    "            return False\n",
    "    \n",
    "    def set_selected(self,state):\n",
    "        self.selected = state\n",
    "\n",
    "\n",
    "def canvas_restart():\n",
    "    canvas.clear()\n",
    "    canvas.fill_style = '#584f4e'\n",
    "    canvas.fill_rect(0, 0, 600, 600)\n",
    "\n",
    "\n",
    "\n",
    "def handle_mouse_down(x, y):\n",
    "    if [o for o in objects_to_draw if o.selected]:\n",
    "        [o.set_selected(False) for o in objects_to_draw if o.selected]\n",
    "        return False\n",
    "    \n",
    "    \n",
    "    check_bool_pos = list(set([check_region.is_selected(x,y) for check_region in objects_to_draw]))\n",
    "    if len(check_bool_pos)== 1:\n",
    "        if check_bool_pos[0] == False:  \n",
    "            s = Square_obj(x,y)\n",
    "            s.set_selected(False)\n",
    "            s.draw()\n",
    "            \n",
    "        else:\n",
    "            canvas_restart()\n",
    "            [o.draw() for o in objects_to_draw]\n",
    "            \n",
    "            \n",
    "    if len(check_bool_pos)== 0:\n",
    "        s = Square_obj(x,y) \n",
    "        s.set_selected(False)\n",
    "        s.draw()\n",
    "    \n",
    "\n",
    "def handle_mouse_move(x, y):    \n",
    "    if [o for o in objects_to_draw if o.selected]:\n",
    "        with hold_canvas(canvas):\n",
    "            [o for o in objects_to_draw if o.selected][-1].set_x_y(x,y)\n",
    "            canvas_restart()\n",
    "            [o.draw() for o in objects_to_draw]\n",
    "\n",
    "\n",
    "    \n",
    "    \n",
    "canvas.on_mouse_down(handle_mouse_down)\n",
    "canvas.on_mouse_move(handle_mouse_move)\n",
    "\n",
    "\n",
    "canvas"
   ]
  },
  {
   "cell_type": "code",
   "execution_count": null,
   "id": "threatened-abraham",
   "metadata": {},
   "outputs": [],
   "source": [
    "def drawCanvas()"
   ]
  },
  {
   "cell_type": "code",
   "execution_count": 5,
   "id": "handy-stewart",
   "metadata": {},
   "outputs": [],
   "source": [
    "import scipy.io\n",
    "\n",
    "mat = scipy.io.loadmat('./sample-output/initial_cells.mat')"
   ]
  },
  {
   "cell_type": "code",
   "execution_count": 11,
   "id": "hydraulic-beginning",
   "metadata": {},
   "outputs": [
    {
     "data": {
      "text/plain": [
       "(8, 1735)"
      ]
     },
     "execution_count": 11,
     "metadata": {},
     "output_type": "execute_result"
    }
   ],
   "source": [
    "mat['basic_agents'].shape"
   ]
  },
  {
   "cell_type": "code",
   "execution_count": 12,
   "id": "continent-safety",
   "metadata": {},
   "outputs": [],
   "source": [
    "phy = scipy.io.loadmat('./sample-output/initial_cells_physicell.mat')"
   ]
  },
  {
   "cell_type": "code",
   "execution_count": 17,
   "id": "endless-macintosh",
   "metadata": {},
   "outputs": [
    {
     "data": {
      "text/plain": [
       "array([  0.        ,  15.98415004, -15.98415004, ...,  39.9603751 ,\n",
       "       -39.9603751 , -39.9603751 ])"
      ]
     },
     "execution_count": 17,
     "metadata": {},
     "output_type": "execute_result"
    }
   ],
   "source": [
    "phy['cells'][1,:]"
   ]
  },
  {
   "cell_type": "code",
   "execution_count": 20,
   "id": "chief-printer",
   "metadata": {},
   "outputs": [
    {
     "data": {
      "text/plain": [
       "['__class__',\n",
       " '__contains__',\n",
       " '__delattr__',\n",
       " '__delitem__',\n",
       " '__dir__',\n",
       " '__doc__',\n",
       " '__eq__',\n",
       " '__format__',\n",
       " '__ge__',\n",
       " '__getattribute__',\n",
       " '__getitem__',\n",
       " '__gt__',\n",
       " '__hash__',\n",
       " '__init__',\n",
       " '__init_subclass__',\n",
       " '__iter__',\n",
       " '__le__',\n",
       " '__len__',\n",
       " '__lt__',\n",
       " '__ne__',\n",
       " '__new__',\n",
       " '__reduce__',\n",
       " '__reduce_ex__',\n",
       " '__repr__',\n",
       " '__reversed__',\n",
       " '__setattr__',\n",
       " '__setitem__',\n",
       " '__sizeof__',\n",
       " '__str__',\n",
       " '__subclasshook__',\n",
       " 'clear',\n",
       " 'copy',\n",
       " 'fromkeys',\n",
       " 'get',\n",
       " 'items',\n",
       " 'keys',\n",
       " 'pop',\n",
       " 'popitem',\n",
       " 'setdefault',\n",
       " 'update',\n",
       " 'values']"
      ]
     },
     "execution_count": 20,
     "metadata": {},
     "output_type": "execute_result"
    }
   ],
   "source": [
    "dir(phy)"
   ]
  },
  {
   "cell_type": "code",
   "execution_count": 23,
   "id": "selected-cherry",
   "metadata": {},
   "outputs": [
    {
     "data": {
      "text/plain": [
       "dict_keys(['cells'])"
      ]
     },
     "execution_count": 23,
     "metadata": {},
     "output_type": "execute_result"
    }
   ],
   "source": [
    "phy.keys()"
   ]
  },
  {
   "cell_type": "code",
   "execution_count": 24,
   "id": "finite-smoke",
   "metadata": {},
   "outputs": [],
   "source": [
    "out1 = "
   ]
  },
  {
   "cell_type": "code",
   "execution_count": 29,
   "id": "related-clothing",
   "metadata": {},
   "outputs": [
    {
     "data": {
      "text/plain": [
       "(28, 1735)"
      ]
     },
     "execution_count": 29,
     "metadata": {},
     "output_type": "execute_result"
    }
   ],
   "source": [
    "out1['cells'].shape"
   ]
  },
  {
   "cell_type": "code",
   "execution_count": 30,
   "id": "unexpected-syndicate",
   "metadata": {},
   "outputs": [],
   "source": [
    "env1 = scipy.io.loadmat('./sample-output/output00000000_microenvironment0')"
   ]
  },
  {
   "cell_type": "code",
   "execution_count": 31,
   "id": "indie-guard",
   "metadata": {},
   "outputs": [
    {
     "data": {
      "text/plain": [
       "dict_keys(['multiscale_microenvironment'])"
      ]
     },
     "execution_count": 31,
     "metadata": {},
     "output_type": "execute_result"
    }
   ],
   "source": [
    "env1.keys()"
   ]
  },
  {
   "cell_type": "code",
   "execution_count": 33,
   "id": "sublime-capture",
   "metadata": {},
   "outputs": [
    {
     "data": {
      "text/plain": [
       "(5, 10000)"
      ]
     },
     "execution_count": 33,
     "metadata": {},
     "output_type": "execute_result"
    }
   ],
   "source": [
    "env1['multiscale_microenvironment'].shape"
   ]
  },
  {
   "cell_type": "code",
   "execution_count": 43,
   "id": "painful-alberta",
   "metadata": {},
   "outputs": [
    {
     "data": {
      "text/plain": [
       "array([-990., -990., -990., -990., -990., -990., -990., -990., -990.,\n",
       "       -990., -990., -990., -990., -990., -990., -990., -990., -990.,\n",
       "       -990., -990., -990., -990., -990., -990., -990., -990., -990.,\n",
       "       -990., -990., -990., -990., -990., -990., -990., -990., -990.,\n",
       "       -990., -990., -990., -990., -990., -990., -990., -990., -990.,\n",
       "       -990., -990., -990., -990., -990., -990., -990., -990., -990.,\n",
       "       -990., -990., -990., -990., -990., -990., -990., -990., -990.,\n",
       "       -990., -990., -990., -990., -990., -990., -990., -990., -990.,\n",
       "       -990., -990., -990., -990., -990., -990., -990., -990., -990.,\n",
       "       -990., -990., -990., -990., -990., -990., -990., -990., -990.,\n",
       "       -990., -990., -990., -990., -990., -990., -990., -990., -990.,\n",
       "       -990., -970., -970., -970., -970., -970., -970., -970., -970.,\n",
       "       -970., -970., -970., -970., -970., -970., -970., -970., -970.,\n",
       "       -970., -970., -970., -970., -970., -970., -970., -970., -970.,\n",
       "       -970., -970., -970., -970., -970., -970., -970., -970., -970.,\n",
       "       -970., -970., -970., -970., -970., -970., -970., -970., -970.,\n",
       "       -970., -970., -970., -970., -970., -970., -970., -970., -970.,\n",
       "       -970., -970., -970., -970., -970., -970., -970., -970., -970.,\n",
       "       -970., -970., -970., -970., -970., -970., -970., -970., -970.,\n",
       "       -970., -970., -970., -970., -970., -970., -970., -970., -970.,\n",
       "       -970., -970., -970., -970., -970., -970., -970., -970., -970.,\n",
       "       -970., -970., -970., -970., -970., -970., -970., -970., -970.,\n",
       "       -970., -970.])"
      ]
     },
     "execution_count": 43,
     "metadata": {},
     "output_type": "execute_result"
    }
   ],
   "source": [
    "env1['multiscale_microenvironment'][1][:200]"
   ]
  },
  {
   "cell_type": "code",
   "execution_count": 44,
   "id": "civic-brush",
   "metadata": {},
   "outputs": [],
   "source": [
    "mesh = scipy.io.loadmat('./sample-output/initial_mesh0.mat')"
   ]
  },
  {
   "cell_type": "code",
   "execution_count": 54,
   "id": "incoming-czech",
   "metadata": {},
   "outputs": [
    {
     "data": {
      "text/plain": [
       "array([8000., 8000., 8000., 8000., 8000., 8000., 8000., 8000., 8000.,\n",
       "       8000., 8000., 8000., 8000., 8000., 8000., 8000., 8000., 8000.,\n",
       "       8000., 8000., 8000., 8000., 8000., 8000., 8000., 8000., 8000.,\n",
       "       8000., 8000., 8000., 8000., 8000., 8000., 8000., 8000., 8000.,\n",
       "       8000., 8000., 8000., 8000., 8000., 8000., 8000., 8000., 8000.,\n",
       "       8000., 8000., 8000., 8000., 8000., 8000., 8000., 8000., 8000.,\n",
       "       8000., 8000., 8000., 8000., 8000., 8000., 8000., 8000., 8000.,\n",
       "       8000., 8000., 8000., 8000., 8000., 8000., 8000., 8000., 8000.,\n",
       "       8000., 8000., 8000., 8000., 8000., 8000., 8000., 8000., 8000.,\n",
       "       8000., 8000., 8000., 8000., 8000., 8000., 8000., 8000., 8000.,\n",
       "       8000., 8000., 8000., 8000., 8000., 8000., 8000., 8000., 8000.,\n",
       "       8000., 8000., 8000., 8000., 8000., 8000., 8000., 8000., 8000.,\n",
       "       8000., 8000., 8000., 8000., 8000., 8000., 8000., 8000., 8000.,\n",
       "       8000., 8000., 8000., 8000., 8000., 8000., 8000., 8000., 8000.,\n",
       "       8000., 8000., 8000., 8000., 8000., 8000., 8000., 8000., 8000.,\n",
       "       8000., 8000., 8000., 8000., 8000., 8000., 8000., 8000., 8000.,\n",
       "       8000., 8000., 8000., 8000., 8000., 8000., 8000., 8000., 8000.,\n",
       "       8000., 8000., 8000., 8000., 8000., 8000., 8000., 8000., 8000.,\n",
       "       8000., 8000., 8000., 8000., 8000., 8000., 8000., 8000., 8000.,\n",
       "       8000., 8000., 8000., 8000., 8000., 8000., 8000., 8000., 8000.,\n",
       "       8000., 8000., 8000., 8000., 8000., 8000., 8000., 8000., 8000.,\n",
       "       8000., 8000., 8000., 8000., 8000., 8000., 8000., 8000., 8000.,\n",
       "       8000., 8000.])"
      ]
     },
     "execution_count": 54,
     "metadata": {},
     "output_type": "execute_result"
    }
   ],
   "source": [
    "mesh[\"mesh\"][3][:200]"
   ]
  },
  {
   "cell_type": "code",
   "execution_count": 64,
   "id": "celtic-dimension",
   "metadata": {},
   "outputs": [
    {
     "data": {
      "text/plain": [
       "array([ 2.0000000e+00, -1.5984150e+01,  0.0000000e+00,  0.0000000e+00,\n",
       "        2.4940000e+03,  0.0000000e+00,  5.0000000e+00,  1.4000000e+01,\n",
       "        0.0000000e+00,  5.4000000e+02,  1.9540000e+03,  7.5000000e-01,\n",
       "        0.0000000e+00,  0.0000000e+00,  0.0000000e+00,  1.0000000e+00,\n",
       "        1.0000000e+00,  1.0000000e+00,  0.0000000e+00,  0.0000000e+00,\n",
       "        0.0000000e+00,  0.0000000e+00,  0.0000000e+00,  0.0000000e+00,\n",
       "        0.0000000e+00,  1.0000000e+00,  0.0000000e+00,  6.4441854e-01])"
      ]
     },
     "execution_count": 64,
     "metadata": {},
     "output_type": "execute_result"
    }
   ],
   "source": [
    "phy['cells'][:, 2]"
   ]
  },
  {
   "cell_type": "code",
   "execution_count": null,
   "id": "hired-companion",
   "metadata": {},
   "outputs": [],
   "source": []
  }
 ],
 "metadata": {
  "kernelspec": {
   "display_name": "Python 3",
   "language": "python",
   "name": "python3"
  },
  "language_info": {
   "codemirror_mode": {
    "name": "ipython",
    "version": 3
   },
   "file_extension": ".py",
   "mimetype": "text/x-python",
   "name": "python",
   "nbconvert_exporter": "python",
   "pygments_lexer": "ipython3",
   "version": "3.8.1"
  }
 },
 "nbformat": 4,
 "nbformat_minor": 5
}
